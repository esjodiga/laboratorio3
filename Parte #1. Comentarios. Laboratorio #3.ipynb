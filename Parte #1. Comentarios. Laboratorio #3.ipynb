{
 "cells": [
  {
   "cell_type": "markdown",
   "id": "86d23399",
   "metadata": {},
   "source": [
    "### Estuardo J. Díaz García\n",
    "-----\n",
    "# Laboratorio 3. Comentarios. Parte 1"
   ]
  },
  {
   "cell_type": "markdown",
   "id": "468b3d31",
   "metadata": {},
   "source": [
    "## K-NN de opiniones"
   ]
  },
  {
   "cell_type": "code",
   "execution_count": 35,
   "id": "f76b4074",
   "metadata": {},
   "outputs": [],
   "source": [
    "import itertools #librería que permite iteraciones\n",
    "import numpy as np\n",
    "import matplotlib.pyplot as plt\n",
    "from matplotlib.ticker import NullFormatter\n",
    "import pandas as pd\n",
    "import numpy as np\n",
    "import matplotlib.ticker as ticker\n",
    "from sklearn import preprocessing\n",
    "%matplotlib inline\n",
    "plt.rcParams['figure.figsize'] = (16, 9)\n",
    "plt.style.use('ggplot')\n",
    "from sklearn.model_selection import train_test_split\n",
    "from sklearn.neighbors import KNeighborsClassifier\n",
    "from sklearn import metrics\n",
    "from sklearn.metrics import confusion_matrix\n",
    "from matplotlib.colors import ListedColormap\n",
    "import matplotlib.patches as mpatches\n",
    "import seaborn as sb\n",
    "from sklearn.metrics import classification_report"
   ]
  },
  {
   "cell_type": "code",
   "execution_count": 36,
   "id": "13278ffd",
   "metadata": {
    "scrolled": true
   },
   "outputs": [
    {
     "data": {
      "text/html": [
       "<div>\n",
       "<style scoped>\n",
       "    .dataframe tbody tr th:only-of-type {\n",
       "        vertical-align: middle;\n",
       "    }\n",
       "\n",
       "    .dataframe tbody tr th {\n",
       "        vertical-align: top;\n",
       "    }\n",
       "\n",
       "    .dataframe thead th {\n",
       "        text-align: right;\n",
       "    }\n",
       "</style>\n",
       "<table border=\"1\" class=\"dataframe\">\n",
       "  <thead>\n",
       "    <tr style=\"text-align: right;\">\n",
       "      <th></th>\n",
       "      <th>Review Title</th>\n",
       "      <th>Review Text</th>\n",
       "      <th>wordcount</th>\n",
       "      <th>titleSentiment</th>\n",
       "      <th>textSentiment</th>\n",
       "      <th>Star Rating</th>\n",
       "      <th>sentimentValue</th>\n",
       "    </tr>\n",
       "  </thead>\n",
       "  <tbody>\n",
       "    <tr>\n",
       "      <th>0</th>\n",
       "      <td>Sin conexión</td>\n",
       "      <td>Hola desde hace algo más de un mes me pone sin...</td>\n",
       "      <td>23</td>\n",
       "      <td>negative</td>\n",
       "      <td>negative</td>\n",
       "      <td>1</td>\n",
       "      <td>-0.486389</td>\n",
       "    </tr>\n",
       "    <tr>\n",
       "      <th>1</th>\n",
       "      <td>faltan cosas</td>\n",
       "      <td>Han mejorado la apariencia pero no</td>\n",
       "      <td>20</td>\n",
       "      <td>negative</td>\n",
       "      <td>negative</td>\n",
       "      <td>1</td>\n",
       "      <td>-0.586187</td>\n",
       "    </tr>\n",
       "    <tr>\n",
       "      <th>2</th>\n",
       "      <td>Es muy buena lo recomiendo</td>\n",
       "      <td>Andres e puto amoooo</td>\n",
       "      <td>4</td>\n",
       "      <td>NaN</td>\n",
       "      <td>negative</td>\n",
       "      <td>1</td>\n",
       "      <td>-0.602240</td>\n",
       "    </tr>\n",
       "    <tr>\n",
       "      <th>3</th>\n",
       "      <td>Version antigua</td>\n",
       "      <td>Me gustana mas la version anterior esta es mas...</td>\n",
       "      <td>17</td>\n",
       "      <td>NaN</td>\n",
       "      <td>negative</td>\n",
       "      <td>1</td>\n",
       "      <td>-0.616271</td>\n",
       "    </tr>\n",
       "    <tr>\n",
       "      <th>4</th>\n",
       "      <td>Esta bien</td>\n",
       "      <td>Sin ser la biblia.... Esta bien</td>\n",
       "      <td>6</td>\n",
       "      <td>negative</td>\n",
       "      <td>negative</td>\n",
       "      <td>1</td>\n",
       "      <td>-0.651784</td>\n",
       "    </tr>\n",
       "    <tr>\n",
       "      <th>5</th>\n",
       "      <td>Buena</td>\n",
       "      <td>Nada del otro mundo pero han mejorado mucho</td>\n",
       "      <td>8</td>\n",
       "      <td>positive</td>\n",
       "      <td>negative</td>\n",
       "      <td>1</td>\n",
       "      <td>-0.720443</td>\n",
       "    </tr>\n",
       "    <tr>\n",
       "      <th>6</th>\n",
       "      <td>De gran ayuda</td>\n",
       "      <td>Lo malo q necesita de …,pero la app es muy buena</td>\n",
       "      <td>23</td>\n",
       "      <td>positive</td>\n",
       "      <td>negative</td>\n",
       "      <td>1</td>\n",
       "      <td>-0.726825</td>\n",
       "    </tr>\n",
       "    <tr>\n",
       "      <th>7</th>\n",
       "      <td>Muy buena</td>\n",
       "      <td>Estaba más acostumbrado al otro diseño, pero e...</td>\n",
       "      <td>16</td>\n",
       "      <td>positive</td>\n",
       "      <td>negative</td>\n",
       "      <td>1</td>\n",
       "      <td>-0.736769</td>\n",
       "    </tr>\n",
       "    <tr>\n",
       "      <th>8</th>\n",
       "      <td>Ta to guapa.</td>\n",
       "      <td>Va de escándalo</td>\n",
       "      <td>21</td>\n",
       "      <td>positive</td>\n",
       "      <td>negative</td>\n",
       "      <td>1</td>\n",
       "      <td>-0.765284</td>\n",
       "    </tr>\n",
       "    <tr>\n",
       "      <th>9</th>\n",
       "      <td>Se han corregido</td>\n",
       "      <td>Han corregido muchos fallos pero el diseño es ...</td>\n",
       "      <td>13</td>\n",
       "      <td>negative</td>\n",
       "      <td>negative</td>\n",
       "      <td>1</td>\n",
       "      <td>-0.797961</td>\n",
       "    </tr>\n",
       "  </tbody>\n",
       "</table>\n",
       "</div>"
      ],
      "text/plain": [
       "                 Review Title  \\\n",
       "0                Sin conexión   \n",
       "1                faltan cosas   \n",
       "2  Es muy buena lo recomiendo   \n",
       "3             Version antigua   \n",
       "4                   Esta bien   \n",
       "5                       Buena   \n",
       "6               De gran ayuda   \n",
       "7                   Muy buena   \n",
       "8                Ta to guapa.   \n",
       "9            Se han corregido   \n",
       "\n",
       "                                         Review Text  wordcount  \\\n",
       "0  Hola desde hace algo más de un mes me pone sin...         23   \n",
       "1                 Han mejorado la apariencia pero no         20   \n",
       "2                               Andres e puto amoooo          4   \n",
       "3  Me gustana mas la version anterior esta es mas...         17   \n",
       "4                    Sin ser la biblia.... Esta bien          6   \n",
       "5        Nada del otro mundo pero han mejorado mucho          8   \n",
       "6   Lo malo q necesita de …,pero la app es muy buena         23   \n",
       "7  Estaba más acostumbrado al otro diseño, pero e...         16   \n",
       "8                                    Va de escándalo         21   \n",
       "9  Han corregido muchos fallos pero el diseño es ...         13   \n",
       "\n",
       "  titleSentiment textSentiment  Star Rating  sentimentValue  \n",
       "0       negative      negative            1       -0.486389  \n",
       "1       negative      negative            1       -0.586187  \n",
       "2            NaN      negative            1       -0.602240  \n",
       "3            NaN      negative            1       -0.616271  \n",
       "4       negative      negative            1       -0.651784  \n",
       "5       positive      negative            1       -0.720443  \n",
       "6       positive      negative            1       -0.726825  \n",
       "7       positive      negative            1       -0.736769  \n",
       "8       positive      negative            1       -0.765284  \n",
       "9       negative      negative            1       -0.797961  "
      ]
     },
     "execution_count": 36,
     "metadata": {},
     "output_type": "execute_result"
    }
   ],
   "source": [
    "df_comentarios = pd.read_csv(\"comentarios.csv\",sep=';')\n",
    "\n",
    "df_comentarios.head(10)"
   ]
  },
  {
   "cell_type": "markdown",
   "id": "2a6b333a",
   "metadata": {},
   "source": [
    "### Exploramos las características del dataset"
   ]
  },
  {
   "cell_type": "code",
   "execution_count": 37,
   "id": "4d685ba8",
   "metadata": {},
   "outputs": [
    {
     "data": {
      "text/html": [
       "<div>\n",
       "<style scoped>\n",
       "    .dataframe tbody tr th:only-of-type {\n",
       "        vertical-align: middle;\n",
       "    }\n",
       "\n",
       "    .dataframe tbody tr th {\n",
       "        vertical-align: top;\n",
       "    }\n",
       "\n",
       "    .dataframe thead th {\n",
       "        text-align: right;\n",
       "    }\n",
       "</style>\n",
       "<table border=\"1\" class=\"dataframe\">\n",
       "  <thead>\n",
       "    <tr style=\"text-align: right;\">\n",
       "      <th></th>\n",
       "      <th>wordcount</th>\n",
       "      <th>Star Rating</th>\n",
       "      <th>sentimentValue</th>\n",
       "    </tr>\n",
       "  </thead>\n",
       "  <tbody>\n",
       "    <tr>\n",
       "      <th>count</th>\n",
       "      <td>257.000000</td>\n",
       "      <td>257.000000</td>\n",
       "      <td>257.000000</td>\n",
       "    </tr>\n",
       "    <tr>\n",
       "      <th>mean</th>\n",
       "      <td>11.501946</td>\n",
       "      <td>3.420233</td>\n",
       "      <td>0.383849</td>\n",
       "    </tr>\n",
       "    <tr>\n",
       "      <th>std</th>\n",
       "      <td>13.159812</td>\n",
       "      <td>1.409531</td>\n",
       "      <td>0.897987</td>\n",
       "    </tr>\n",
       "    <tr>\n",
       "      <th>min</th>\n",
       "      <td>1.000000</td>\n",
       "      <td>1.000000</td>\n",
       "      <td>-2.276469</td>\n",
       "    </tr>\n",
       "    <tr>\n",
       "      <th>25%</th>\n",
       "      <td>3.000000</td>\n",
       "      <td>3.000000</td>\n",
       "      <td>-0.108144</td>\n",
       "    </tr>\n",
       "    <tr>\n",
       "      <th>50%</th>\n",
       "      <td>7.000000</td>\n",
       "      <td>3.000000</td>\n",
       "      <td>0.264091</td>\n",
       "    </tr>\n",
       "    <tr>\n",
       "      <th>75%</th>\n",
       "      <td>16.000000</td>\n",
       "      <td>5.000000</td>\n",
       "      <td>0.808384</td>\n",
       "    </tr>\n",
       "    <tr>\n",
       "      <th>max</th>\n",
       "      <td>103.000000</td>\n",
       "      <td>5.000000</td>\n",
       "      <td>3.264579</td>\n",
       "    </tr>\n",
       "  </tbody>\n",
       "</table>\n",
       "</div>"
      ],
      "text/plain": [
       "        wordcount  Star Rating  sentimentValue\n",
       "count  257.000000   257.000000      257.000000\n",
       "mean    11.501946     3.420233        0.383849\n",
       "std     13.159812     1.409531        0.897987\n",
       "min      1.000000     1.000000       -2.276469\n",
       "25%      3.000000     3.000000       -0.108144\n",
       "50%      7.000000     3.000000        0.264091\n",
       "75%     16.000000     5.000000        0.808384\n",
       "max    103.000000     5.000000        3.264579"
      ]
     },
     "execution_count": 37,
     "metadata": {},
     "output_type": "execute_result"
    }
   ],
   "source": [
    "df_comentarios.describe()"
   ]
  },
  {
   "cell_type": "code",
   "execution_count": 38,
   "id": "44206755",
   "metadata": {},
   "outputs": [
    {
     "data": {
      "image/png": "[encoded data removed]",
      "text/plain": [
       "<Figure size 1152x648 with 4 Axes>"
      ]
     },
     "metadata": {},
     "output_type": "display_data"
    }
   ],
   "source": [
    "df_comentarios.hist()\n",
    "plt.show()"
   ]
  },
  {
   "cell_type": "code",
   "execution_count": 39,
   "id": "b8a7c2d6",
   "metadata": {
    "scrolled": true
   },
   "outputs": [
    {
     "name": "stdout",
     "output_type": "stream",
     "text": [
      "Star Rating\n",
      "1    37\n",
      "2    24\n",
      "3    78\n",
      "4    30\n",
      "5    88\n",
      "dtype: int64\n"
     ]
    }
   ],
   "source": [
    "print(df_comentarios.groupby('Star Rating').size()) #La mayoría de comentarios son de 5 y de 3 estrellas, respectivamente"
   ]
  },
  {
   "cell_type": "markdown",
   "id": "ad7f6144",
   "metadata": {},
   "source": [
    "### Transformamos la data"
   ]
  },
  {
   "cell_type": "code",
   "execution_count": 40,
   "id": "5fd4b431",
   "metadata": {},
   "outputs": [],
   "source": [
    "#Como vamos a usar las columnas de \"wordcount\", \"titleSentiment\", \"textSentiment\" y \"sentimentValue\"\n",
    "#Vamos a eliminar las filas que continen NaN dado que esto distorsiona nuestro modelo\n",
    "df_comentarios = df_comentarios.dropna()"
   ]
  },
  {
   "cell_type": "code",
   "execution_count": 41,
   "id": "b2d82769",
   "metadata": {
    "scrolled": false
   },
   "outputs": [
    {
     "data": {
      "text/html": [
       "<div>\n",
       "<style scoped>\n",
       "    .dataframe tbody tr th:only-of-type {\n",
       "        vertical-align: middle;\n",
       "    }\n",
       "\n",
       "    .dataframe tbody tr th {\n",
       "        vertical-align: top;\n",
       "    }\n",
       "\n",
       "    .dataframe thead th {\n",
       "        text-align: right;\n",
       "    }\n",
       "</style>\n",
       "<table border=\"1\" class=\"dataframe\">\n",
       "  <thead>\n",
       "    <tr style=\"text-align: right;\">\n",
       "      <th></th>\n",
       "      <th>wordcount</th>\n",
       "      <th>Star Rating</th>\n",
       "      <th>sentimentValue</th>\n",
       "    </tr>\n",
       "  </thead>\n",
       "  <tbody>\n",
       "    <tr>\n",
       "      <th>count</th>\n",
       "      <td>231.000000</td>\n",
       "      <td>231.000000</td>\n",
       "      <td>231.000000</td>\n",
       "    </tr>\n",
       "    <tr>\n",
       "      <th>mean</th>\n",
       "      <td>11.709957</td>\n",
       "      <td>3.398268</td>\n",
       "      <td>0.370385</td>\n",
       "    </tr>\n",
       "    <tr>\n",
       "      <th>std</th>\n",
       "      <td>12.976495</td>\n",
       "      <td>1.416302</td>\n",
       "      <td>0.909308</td>\n",
       "    </tr>\n",
       "    <tr>\n",
       "      <th>min</th>\n",
       "      <td>1.000000</td>\n",
       "      <td>1.000000</td>\n",
       "      <td>-2.276469</td>\n",
       "    </tr>\n",
       "    <tr>\n",
       "      <th>25%</th>\n",
       "      <td>3.000000</td>\n",
       "      <td>3.000000</td>\n",
       "      <td>-0.107949</td>\n",
       "    </tr>\n",
       "    <tr>\n",
       "      <th>50%</th>\n",
       "      <td>7.000000</td>\n",
       "      <td>3.000000</td>\n",
       "      <td>0.246869</td>\n",
       "    </tr>\n",
       "    <tr>\n",
       "      <th>75%</th>\n",
       "      <td>16.000000</td>\n",
       "      <td>5.000000</td>\n",
       "      <td>0.791747</td>\n",
       "    </tr>\n",
       "    <tr>\n",
       "      <th>max</th>\n",
       "      <td>103.000000</td>\n",
       "      <td>5.000000</td>\n",
       "      <td>3.264579</td>\n",
       "    </tr>\n",
       "  </tbody>\n",
       "</table>\n",
       "</div>"
      ],
      "text/plain": [
       "        wordcount  Star Rating  sentimentValue\n",
       "count  231.000000   231.000000      231.000000\n",
       "mean    11.709957     3.398268        0.370385\n",
       "std     12.976495     1.416302        0.909308\n",
       "min      1.000000     1.000000       -2.276469\n",
       "25%      3.000000     3.000000       -0.107949\n",
       "50%      7.000000     3.000000        0.246869\n",
       "75%     16.000000     5.000000        0.791747\n",
       "max    103.000000     5.000000        3.264579"
      ]
     },
     "execution_count": 41,
     "metadata": {},
     "output_type": "execute_result"
    }
   ],
   "source": [
    "df_comentarios.describe() #La nueva información queda así"
   ]
  },
  {
   "cell_type": "code",
   "execution_count": 42,
   "id": "899a1b90",
   "metadata": {},
   "outputs": [
    {
     "name": "stdout",
     "output_type": "stream",
     "text": [
      "Star Rating\n",
      "1    34\n",
      "2    23\n",
      "3    69\n",
      "4    27\n",
      "5    78\n",
      "dtype: int64\n"
     ]
    }
   ],
   "source": [
    "print(df_comentarios.groupby('Star Rating').size())\n",
    "#La mayoría de comentarios sigue estando en las 5 y de 3 estrellas, respectivamente"
   ]
  },
  {
   "cell_type": "code",
   "execution_count": 43,
   "id": "fcee3053",
   "metadata": {
    "scrolled": true
   },
   "outputs": [],
   "source": [
    "#Vamos a transformar algunas columnas no numéricas a variables dummy para poderlas usar en nuestro modelo KNN\n",
    "\n",
    "#En la columna \"titleSentiment\" negative = 0 y positive = 1:\n",
    "df_comentarios.loc[df_comentarios[\"titleSentiment\"] == \"negative\", \"titleSentiment\"] = 0\n",
    "df_comentarios.loc[df_comentarios[\"titleSentiment\"] == \"positive\", \"titleSentiment\"] = 1\n",
    "\n",
    "#En la columna \"textSentiment\" negative = 0 y positive = 1:\n",
    "df_comentarios.loc[df_comentarios[\"textSentiment\"] == \"negative\", \"textSentiment\"] = 0\n",
    "df_comentarios.loc[df_comentarios[\"textSentiment\"] == \"positive\", \"textSentiment\"] = 1\n",
    "\n",
    "df_comentarios[[\"titleSentiment\"]] = df_comentarios[[\"titleSentiment\"]].astype(float)\n",
    "df_comentarios[[\"textSentiment\"]] = df_comentarios[[\"textSentiment\"]].astype(float)"
   ]
  },
  {
   "cell_type": "code",
   "execution_count": 44,
   "id": "ebe142ec",
   "metadata": {},
   "outputs": [
    {
     "data": {
      "text/html": [
       "<div>\n",
       "<style scoped>\n",
       "    .dataframe tbody tr th:only-of-type {\n",
       "        vertical-align: middle;\n",
       "    }\n",
       "\n",
       "    .dataframe tbody tr th {\n",
       "        vertical-align: top;\n",
       "    }\n",
       "\n",
       "    .dataframe thead th {\n",
       "        text-align: right;\n",
       "    }\n",
       "</style>\n",
       "<table border=\"1\" class=\"dataframe\">\n",
       "  <thead>\n",
       "    <tr style=\"text-align: right;\">\n",
       "      <th></th>\n",
       "      <th>wordcount</th>\n",
       "      <th>titleSentiment</th>\n",
       "      <th>textSentiment</th>\n",
       "      <th>Star Rating</th>\n",
       "      <th>sentimentValue</th>\n",
       "    </tr>\n",
       "  </thead>\n",
       "  <tbody>\n",
       "    <tr>\n",
       "      <th>wordcount</th>\n",
       "      <td>1.000000</td>\n",
       "      <td>-0.315648</td>\n",
       "      <td>-0.271472</td>\n",
       "      <td>-0.413835</td>\n",
       "      <td>-0.351401</td>\n",
       "    </tr>\n",
       "    <tr>\n",
       "      <th>titleSentiment</th>\n",
       "      <td>-0.315648</td>\n",
       "      <td>1.000000</td>\n",
       "      <td>0.447293</td>\n",
       "      <td>0.357556</td>\n",
       "      <td>0.289145</td>\n",
       "    </tr>\n",
       "    <tr>\n",
       "      <th>textSentiment</th>\n",
       "      <td>-0.271472</td>\n",
       "      <td>0.447293</td>\n",
       "      <td>1.000000</td>\n",
       "      <td>0.696731</td>\n",
       "      <td>0.628439</td>\n",
       "    </tr>\n",
       "    <tr>\n",
       "      <th>Star Rating</th>\n",
       "      <td>-0.413835</td>\n",
       "      <td>0.357556</td>\n",
       "      <td>0.696731</td>\n",
       "      <td>1.000000</td>\n",
       "      <td>0.785951</td>\n",
       "    </tr>\n",
       "    <tr>\n",
       "      <th>sentimentValue</th>\n",
       "      <td>-0.351401</td>\n",
       "      <td>0.289145</td>\n",
       "      <td>0.628439</td>\n",
       "      <td>0.785951</td>\n",
       "      <td>1.000000</td>\n",
       "    </tr>\n",
       "  </tbody>\n",
       "</table>\n",
       "</div>"
      ],
      "text/plain": [
       "                wordcount  titleSentiment  textSentiment  Star Rating  \\\n",
       "wordcount        1.000000       -0.315648      -0.271472    -0.413835   \n",
       "titleSentiment  -0.315648        1.000000       0.447293     0.357556   \n",
       "textSentiment   -0.271472        0.447293       1.000000     0.696731   \n",
       "Star Rating     -0.413835        0.357556       0.696731     1.000000   \n",
       "sentimentValue  -0.351401        0.289145       0.628439     0.785951   \n",
       "\n",
       "                sentimentValue  \n",
       "wordcount            -0.351401  \n",
       "titleSentiment        0.289145  \n",
       "textSentiment         0.628439  \n",
       "Star Rating           0.785951  \n",
       "sentimentValue        1.000000  "
      ]
     },
     "execution_count": 44,
     "metadata": {},
     "output_type": "execute_result"
    }
   ],
   "source": [
    "df_comentarios.corr()"
   ]
  },
  {
   "cell_type": "code",
   "execution_count": 45,
   "id": "c7c96d95",
   "metadata": {},
   "outputs": [
    {
     "data": {
      "text/html": [
       "<div>\n",
       "<style scoped>\n",
       "    .dataframe tbody tr th:only-of-type {\n",
       "        vertical-align: middle;\n",
       "    }\n",
       "\n",
       "    .dataframe tbody tr th {\n",
       "        vertical-align: top;\n",
       "    }\n",
       "\n",
       "    .dataframe thead th {\n",
       "        text-align: right;\n",
       "    }\n",
       "</style>\n",
       "<table border=\"1\" class=\"dataframe\">\n",
       "  <thead>\n",
       "    <tr style=\"text-align: right;\">\n",
       "      <th></th>\n",
       "      <th>Review Title</th>\n",
       "      <th>Review Text</th>\n",
       "      <th>wordcount</th>\n",
       "      <th>titleSentiment</th>\n",
       "      <th>textSentiment</th>\n",
       "      <th>Star Rating</th>\n",
       "      <th>sentimentValue</th>\n",
       "    </tr>\n",
       "  </thead>\n",
       "  <tbody>\n",
       "    <tr>\n",
       "      <th>0</th>\n",
       "      <td>Sin conexión</td>\n",
       "      <td>Hola desde hace algo más de un mes me pone sin...</td>\n",
       "      <td>23</td>\n",
       "      <td>0.0</td>\n",
       "      <td>0.0</td>\n",
       "      <td>1</td>\n",
       "      <td>-0.486389</td>\n",
       "    </tr>\n",
       "    <tr>\n",
       "      <th>1</th>\n",
       "      <td>faltan cosas</td>\n",
       "      <td>Han mejorado la apariencia pero no</td>\n",
       "      <td>20</td>\n",
       "      <td>0.0</td>\n",
       "      <td>0.0</td>\n",
       "      <td>1</td>\n",
       "      <td>-0.586187</td>\n",
       "    </tr>\n",
       "    <tr>\n",
       "      <th>4</th>\n",
       "      <td>Esta bien</td>\n",
       "      <td>Sin ser la biblia.... Esta bien</td>\n",
       "      <td>6</td>\n",
       "      <td>0.0</td>\n",
       "      <td>0.0</td>\n",
       "      <td>1</td>\n",
       "      <td>-0.651784</td>\n",
       "    </tr>\n",
       "    <tr>\n",
       "      <th>5</th>\n",
       "      <td>Buena</td>\n",
       "      <td>Nada del otro mundo pero han mejorado mucho</td>\n",
       "      <td>8</td>\n",
       "      <td>1.0</td>\n",
       "      <td>0.0</td>\n",
       "      <td>1</td>\n",
       "      <td>-0.720443</td>\n",
       "    </tr>\n",
       "    <tr>\n",
       "      <th>6</th>\n",
       "      <td>De gran ayuda</td>\n",
       "      <td>Lo malo q necesita de …,pero la app es muy buena</td>\n",
       "      <td>23</td>\n",
       "      <td>1.0</td>\n",
       "      <td>0.0</td>\n",
       "      <td>1</td>\n",
       "      <td>-0.726825</td>\n",
       "    </tr>\n",
       "    <tr>\n",
       "      <th>7</th>\n",
       "      <td>Muy buena</td>\n",
       "      <td>Estaba más acostumbrado al otro diseño, pero e...</td>\n",
       "      <td>16</td>\n",
       "      <td>1.0</td>\n",
       "      <td>0.0</td>\n",
       "      <td>1</td>\n",
       "      <td>-0.736769</td>\n",
       "    </tr>\n",
       "    <tr>\n",
       "      <th>8</th>\n",
       "      <td>Ta to guapa.</td>\n",
       "      <td>Va de escándalo</td>\n",
       "      <td>21</td>\n",
       "      <td>1.0</td>\n",
       "      <td>0.0</td>\n",
       "      <td>1</td>\n",
       "      <td>-0.765284</td>\n",
       "    </tr>\n",
       "    <tr>\n",
       "      <th>9</th>\n",
       "      <td>Se han corregido</td>\n",
       "      <td>Han corregido muchos fallos pero el diseño es ...</td>\n",
       "      <td>13</td>\n",
       "      <td>0.0</td>\n",
       "      <td>0.0</td>\n",
       "      <td>1</td>\n",
       "      <td>-0.797961</td>\n",
       "    </tr>\n",
       "    <tr>\n",
       "      <th>10</th>\n",
       "      <td>Parece que va mejor.</td>\n",
       "      <td>No se cuelga tanto</td>\n",
       "      <td>4</td>\n",
       "      <td>1.0</td>\n",
       "      <td>0.0</td>\n",
       "      <td>1</td>\n",
       "      <td>-0.833488</td>\n",
       "    </tr>\n",
       "    <tr>\n",
       "      <th>11</th>\n",
       "      <td>Dice q hay una nueva versión?</td>\n",
       "      <td>Xq no me sale la opción de actualizarla entonces?</td>\n",
       "      <td>9</td>\n",
       "      <td>0.0</td>\n",
       "      <td>0.0</td>\n",
       "      <td>1</td>\n",
       "      <td>-0.838467</td>\n",
       "    </tr>\n",
       "  </tbody>\n",
       "</table>\n",
       "</div>"
      ],
      "text/plain": [
       "                     Review Title  \\\n",
       "0                    Sin conexión   \n",
       "1                    faltan cosas   \n",
       "4                       Esta bien   \n",
       "5                           Buena   \n",
       "6                   De gran ayuda   \n",
       "7                       Muy buena   \n",
       "8                    Ta to guapa.   \n",
       "9                Se han corregido   \n",
       "10           Parece que va mejor.   \n",
       "11  Dice q hay una nueva versión?   \n",
       "\n",
       "                                          Review Text  wordcount  \\\n",
       "0   Hola desde hace algo más de un mes me pone sin...         23   \n",
       "1                  Han mejorado la apariencia pero no         20   \n",
       "4                     Sin ser la biblia.... Esta bien          6   \n",
       "5         Nada del otro mundo pero han mejorado mucho          8   \n",
       "6    Lo malo q necesita de …,pero la app es muy buena         23   \n",
       "7   Estaba más acostumbrado al otro diseño, pero e...         16   \n",
       "8                                     Va de escándalo         21   \n",
       "9   Han corregido muchos fallos pero el diseño es ...         13   \n",
       "10                                 No se cuelga tanto          4   \n",
       "11  Xq no me sale la opción de actualizarla entonces?          9   \n",
       "\n",
       "    titleSentiment  textSentiment  Star Rating  sentimentValue  \n",
       "0              0.0            0.0            1       -0.486389  \n",
       "1              0.0            0.0            1       -0.586187  \n",
       "4              0.0            0.0            1       -0.651784  \n",
       "5              1.0            0.0            1       -0.720443  \n",
       "6              1.0            0.0            1       -0.726825  \n",
       "7              1.0            0.0            1       -0.736769  \n",
       "8              1.0            0.0            1       -0.765284  \n",
       "9              0.0            0.0            1       -0.797961  \n",
       "10             1.0            0.0            1       -0.833488  \n",
       "11             0.0            0.0            1       -0.838467  "
      ]
     },
     "execution_count": 45,
     "metadata": {},
     "output_type": "execute_result"
    }
   ],
   "source": [
    "df_comentarios.head(10)"
   ]
  },
  {
   "cell_type": "code",
   "execution_count": 46,
   "id": "b48e31a4",
   "metadata": {},
   "outputs": [
    {
     "data": {
      "text/plain": [
       "Index(['Review Title', 'Review Text', 'wordcount', 'titleSentiment',\n",
       "       'textSentiment', 'Star Rating', 'sentimentValue'],\n",
       "      dtype='object')"
      ]
     },
     "execution_count": 46,
     "metadata": {},
     "output_type": "execute_result"
    }
   ],
   "source": [
    "df_comentarios.columns"
   ]
  },
  {
   "cell_type": "code",
   "execution_count": 47,
   "id": "de202c55",
   "metadata": {},
   "outputs": [],
   "source": [
    "x = df_comentarios[['wordcount','textSentiment','sentimentValue']].values #Se escogieron variables X de acuerdo a correlación\n",
    "y = df_comentarios['Star Rating'].values\n",
    "\n",
    "x = preprocessing.StandardScaler().fit(x).transform(x.astype(float))\n",
    "\n"
   ]
  },
  {
   "cell_type": "code",
   "execution_count": 48,
   "id": "30f45537",
   "metadata": {},
   "outputs": [
    {
     "name": "stdout",
     "output_type": "stream",
     "text": [
      "Set de Entrenamiento: (184, 3) (184,)\n",
      "Set de Prueba: (47, 3) (47,)\n"
     ]
    }
   ],
   "source": [
    "#Generamos el set de entrenamiento y el de testeo\n",
    "x_train, x_test, y_train, y_test = train_test_split(x, y, test_size=0.2, random_state=4)\n",
    "\n",
    "print ('Set de Entrenamiento:', x_train.shape,  y_train.shape)\n",
    "print ('Set de Prueba:', x_test.shape,  y_test.shape)"
   ]
  },
  {
   "cell_type": "code",
   "execution_count": 49,
   "id": "fce58332",
   "metadata": {},
   "outputs": [
    {
     "data": {
      "image/png": "[encoded data removed]",
      "text/plain": [
       "<Figure size 1152x648 with 1 Axes>"
      ]
     },
     "metadata": {},
     "output_type": "display_data"
    },
    {
     "name": "stdout",
     "output_type": "stream",
     "text": [
      "[0.851063829787234, 0.7021276595744681, 0.8936170212765957, 0.9148936170212766, 0.8723404255319149, 0.8936170212765957, 0.8936170212765957, 0.8936170212765957, 0.8723404255319149, 0.8723404255319149, 0.851063829787234, 0.851063829787234, 0.851063829787234, 0.851063829787234, 0.851063829787234, 0.851063829787234, 0.851063829787234, 0.851063829787234, 0.851063829787234, 0.851063829787234, 0.8723404255319149, 0.8723404255319149, 0.8723404255319149, 0.851063829787234, 0.8297872340425532, 0.8297872340425532, 0.851063829787234, 0.8723404255319149, 0.851063829787234, 0.851063829787234, 0.851063829787234, 0.851063829787234, 0.851063829787234, 0.851063829787234, 0.851063829787234, 0.851063829787234, 0.851063829787234, 0.851063829787234, 0.8297872340425532, 0.8297872340425532, 0.8297872340425532, 0.851063829787234, 0.851063829787234, 0.8297872340425532, 0.8297872340425532, 0.8297872340425532, 0.8297872340425532, 0.8297872340425532, 0.8297872340425532, 0.8297872340425532, 0.8297872340425532, 0.8297872340425532, 0.8297872340425532, 0.8085106382978723, 0.7872340425531915, 0.7659574468085106, 0.723404255319149, 0.723404255319149, 0.723404255319149, 0.6808510638297872, 0.6808510638297872, 0.6808510638297872, 0.6808510638297872, 0.6808510638297872, 0.6808510638297872, 0.6808510638297872, 0.6808510638297872, 0.6382978723404256, 0.6382978723404256, 0.6382978723404256, 0.6382978723404256, 0.6170212765957447, 0.6170212765957447, 0.5957446808510638, 0.5957446808510638, 0.5531914893617021, 0.5531914893617021, 0.5531914893617021, 0.5531914893617021, 0.5531914893617021, 0.5531914893617021, 0.5531914893617021, 0.5531914893617021, 0.5531914893617021, 0.5531914893617021, 0.5531914893617021, 0.574468085106383, 0.5957446808510638, 0.5957446808510638, 0.5957446808510638, 0.5957446808510638, 0.574468085106383, 0.574468085106383, 0.574468085106383, 0.5957446808510638, 0.5957446808510638, 0.574468085106383, 0.574468085106383, 0.5957446808510638]\n"
     ]
    }
   ],
   "source": [
    "k_range = range(1,100) #Vemos que K es el más certero\n",
    "certeza = {}\n",
    "certeza_list = []\n",
    "\n",
    "for k in k_range:\n",
    "    knn = KNeighborsClassifier(n_neighbors = k).fit(x_train,y_train)\n",
    "    y_hat = knn.predict(x_test)\n",
    "    certeza[k] = metrics.accuracy_score(y_test,y_hat)\n",
    "    certeza_list.append(metrics.accuracy_score(y_test,y_hat))\n",
    "    \n",
    "plt.plot(k_range,certeza_list)\n",
    "plt.xlabel(\"Valores K\")\n",
    "plt.ylabel(\"Certeza del modelo\")\n",
    "plt.show()\n",
    "\n",
    "print(certeza_list) #vemos que el k=3 tiene una adecuada certeza del 89.4%"
   ]
  },
  {
   "cell_type": "code",
   "execution_count": 50,
   "id": "24200a8e",
   "metadata": {
    "scrolled": true
   },
   "outputs": [
    {
     "name": "stdout",
     "output_type": "stream",
     "text": [
      "Certeza en el set de prueba:  0.9293478260869565\n",
      "Certeza en el set de testeo:  0.8936170212765957\n"
     ]
    }
   ],
   "source": [
    "k = 3 #el parámetro K definido por el usuario\n",
    "\n",
    "neighbor = KNeighborsClassifier(n_neighbors = k).fit(x_train,y_train)\n",
    "\n",
    "yhat = neighbor.predict(x_test) #predecimos el test de prueba \n",
    "\n",
    "\n",
    "print(\"Certeza en el set de prueba: \", metrics.accuracy_score(y_train, neighbor.predict(x_train)))\n",
    "print(\"Certeza en el set de testeo: \", metrics.accuracy_score(y_test, yhat))"
   ]
  },
  {
   "cell_type": "markdown",
   "id": "feb40309",
   "metadata": {},
   "source": [
    "## Modelo final"
   ]
  },
  {
   "cell_type": "code",
   "execution_count": 51,
   "id": "6d02a17a",
   "metadata": {},
   "outputs": [],
   "source": [
    "k=3 #Usamos el K más certero\n",
    "rating_pred = KNeighborsClassifier(n_neighbors = k).fit(x_train,y_train) #entrenamos el modelo\n",
    "y_hat = rating_pred.predict(x_test) #lo corremos con el test de prueba nuevamente"
   ]
  },
  {
   "cell_type": "code",
   "execution_count": 55,
   "id": "2945cf21",
   "metadata": {},
   "outputs": [
    {
     "name": "stdout",
     "output_type": "stream",
     "text": [
      "[[ 7  0  0  0  0]\n",
      " [ 0  4  0  0  0]\n",
      " [ 0  0 14  0  2]\n",
      " [ 0  0  1  3  1]\n",
      " [ 0  0  1  0 14]]\n"
     ]
    }
   ],
   "source": [
    "print(confusion_matrix(y_test, y_hat))\n",
    "#Vemos que con k=3 el modelo es bastante certero, solamente 5 observaciones fueron incorrectas de 47"
   ]
  }
 ],
 "metadata": {
  "kernelspec": {
   "display_name": "Python 3 (ipykernel)",
   "language": "python",
   "name": "python3"
  },
  "language_info": {
   "codemirror_mode": {
    "name": "ipython",
    "version": 3
   },
   "file_extension": ".py",
   "mimetype": "text/x-python",
   "name": "python",
   "nbconvert_exporter": "python",
   "pygments_lexer": "ipython3",
   "version": "3.9.7"
  }
 },
 "nbformat": 4,
 "nbformat_minor": 5
}
